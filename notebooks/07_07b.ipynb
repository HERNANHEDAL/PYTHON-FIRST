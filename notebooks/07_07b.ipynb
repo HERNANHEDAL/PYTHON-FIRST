{
 "cells": [
  {
   "cell_type": "markdown",
   "id": "7252adbf-4476-49ed-b1bb-c51604a2e729",
   "metadata": {},
   "source": [
    "## Asynchronous scraping"
   ]
  },
  {
   "cell_type": "code",
   "execution_count": 1,
   "id": "b7b4b66d",
   "metadata": {},
   "outputs": [
    {
     "name": "stdout",
     "output_type": "stream",
     "text": [
      "Requirement already satisfied: aiohttp in /home/codespace/.python/current/lib/python3.12/site-packages (3.10.10)\n",
      "Requirement already satisfied: aiohappyeyeballs>=2.3.0 in /home/codespace/.python/current/lib/python3.12/site-packages (from aiohttp) (2.4.3)\n",
      "Requirement already satisfied: aiosignal>=1.1.2 in /home/codespace/.python/current/lib/python3.12/site-packages (from aiohttp) (1.3.1)\n",
      "Requirement already satisfied: attrs>=17.3.0 in /home/codespace/.local/lib/python3.12/site-packages (from aiohttp) (24.2.0)\n",
      "Requirement already satisfied: frozenlist>=1.1.1 in /home/codespace/.python/current/lib/python3.12/site-packages (from aiohttp) (1.4.1)\n",
      "Requirement already satisfied: multidict<7.0,>=4.5 in /home/codespace/.python/current/lib/python3.12/site-packages (from aiohttp) (6.1.0)\n",
      "Requirement already satisfied: yarl<2.0,>=1.12.0 in /home/codespace/.python/current/lib/python3.12/site-packages (from aiohttp) (1.15.0)\n",
      "Requirement already satisfied: idna>=2.0 in /home/codespace/.local/lib/python3.12/site-packages (from yarl<2.0,>=1.12.0->aiohttp) (3.10)\n",
      "Requirement already satisfied: propcache>=0.2.0 in /home/codespace/.python/current/lib/python3.12/site-packages (from yarl<2.0,>=1.12.0->aiohttp) (0.2.0)\n",
      "Note: you may need to restart the kernel to use updated packages.\n"
     ]
    }
   ],
   "source": [
    "pip install aiohttp"
   ]
  },
  {
   "cell_type": "code",
   "execution_count": 2,
   "id": "cb191576-cfe0-4823-aeb8-2ce0ed7a1cb3",
   "metadata": {},
   "outputs": [],
   "source": [
    "import aiohttp\n",
    "import asyncio\n",
    "from bs4 import BeautifulSoup\n",
    "import csv\n",
    "import re"
   ]
  },
  {
   "cell_type": "code",
   "execution_count": 3,
   "id": "109d2655",
   "metadata": {},
   "outputs": [
    {
     "name": "stdout",
     "output_type": "stream",
     "text": [
      "Requirement already satisfied: nest-asyncio in /home/codespace/.local/lib/python3.12/site-packages (1.6.0)\n"
     ]
    }
   ],
   "source": [
    "!pip install nest-asyncio\n",
    "import nest_asyncio\n",
    "nest_asyncio.apply()"
   ]
  },
  {
   "cell_type": "code",
   "execution_count": 4,
   "id": "a3976c2d",
   "metadata": {},
   "outputs": [],
   "source": [
    "async def scrap_and_save_links(text):\n",
    "  soup = BeautifulSoup(text, 'html.parser')\n",
    "  file = open('csv_file','a',newline='')\n",
    "  writer = csv.writer(file, delimiter=',')\n",
    "  for link in soup.findall('a',attrs={'href':re.compile('^http')}):\n",
    "    link = link.get('href')\n",
    "    writer.writerow([link])\n",
    "    file.close()"
   ]
  },
  {
   "cell_type": "code",
   "execution_count": 6,
   "id": "4f45ce0b",
   "metadata": {},
   "outputs": [],
   "source": [
    "async def fetch(session, url):\n",
    "  try:\n",
    "    async with session.get(url) as response:\n",
    "      text = await response.text()\n",
    "      task = asyncio.create_task(scrap_and_save_links(text))\n",
    "      await task\n",
    "  except Exception as e:\n",
    "    print(str(e))"
   ]
  },
  {
   "cell_type": "code",
   "execution_count": 7,
   "id": "15267f89",
   "metadata": {},
   "outputs": [],
   "source": [
    "async def scrap(urls):\n",
    "  tasks = []\n",
    "  async with aiohttp.ClientSession() as session:\n",
    "    for url in urls:\n",
    "      tasks.append(fetch(session,url))\n",
    "    await asyncio.gather(*tasks)"
   ]
  },
  {
   "cell_type": "code",
   "execution_count": 8,
   "id": "4115300f",
   "metadata": {},
   "outputs": [
    {
     "name": "stdout",
     "output_type": "stream",
     "text": [
      "'NoneType' object is not callable\n",
      "'NoneType' object is not callable\n",
      "'NoneType' object is not callable\n"
     ]
    }
   ],
   "source": [
    "urls = ['https://analytics.usa.gov/','https://www.python.org/','https://www.linkedin.com/']\n",
    "asyncio.run(scrap(urls=urls))"
   ]
  },
  {
   "cell_type": "code",
   "execution_count": null,
   "id": "dd3c6f6d",
   "metadata": {},
   "outputs": [],
   "source": []
  }
 ],
 "metadata": {
  "kernelspec": {
   "display_name": "Python 3",
   "language": "python",
   "name": "python3"
  },
  "language_info": {
   "codemirror_mode": {
    "name": "ipython",
    "version": 3
   },
   "file_extension": ".py",
   "mimetype": "text/x-python",
   "name": "python",
   "nbconvert_exporter": "python",
   "pygments_lexer": "ipython3",
   "version": "3.12.1"
  }
 },
 "nbformat": 4,
 "nbformat_minor": 5
}
